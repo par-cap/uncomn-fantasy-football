{
 "cells": [
  {
   "cell_type": "code",
   "execution_count": 1,
   "metadata": {},
   "outputs": [],
   "source": [
    "from yahoo_oauth import OAuth2\n",
    "import yahoo_fantasy_api as yfa\n",
    "import pandas as pd"
   ]
  },
  {
   "cell_type": "code",
   "execution_count": 2,
   "metadata": {
    "scrolled": true
   },
   "outputs": [
    {
     "name": "stderr",
     "output_type": "stream",
     "text": [
      "[2020-08-10 12:14:50,847 DEBUG] [yahoo_oauth.oauth.__init__] Checking \n",
      "[2020-08-10 12:14:50,851 DEBUG] [yahoo_oauth.oauth.token_is_valid] ELAPSED TIME : 2029.9641466140747\n",
      "[2020-08-10 12:14:50,852 DEBUG] [yahoo_oauth.oauth.token_is_valid] TOKEN IS STILL VALID\n"
     ]
    }
   ],
   "source": [
    "sc = OAuth2(None, None, from_file='oauth2.json')"
   ]
  },
  {
   "cell_type": "code",
   "execution_count": 3,
   "metadata": {},
   "outputs": [],
   "source": [
    "gm = yfa.Game(sc, 'nfl')\n",
    "\n",
    "league_ids = gm.league_ids(year=2020)"
   ]
  },
  {
   "cell_type": "code",
   "execution_count": 4,
   "metadata": {
    "scrolled": true
   },
   "outputs": [
    {
     "name": "stdout",
     "output_type": "stream",
     "text": [
      "UGLI FF Division 1 Standings:\n"
     ]
    },
    {
     "data": {
      "text/html": [
       "<div>\n",
       "<style scoped>\n",
       "    .dataframe tbody tr th:only-of-type {\n",
       "        vertical-align: middle;\n",
       "    }\n",
       "\n",
       "    .dataframe tbody tr th {\n",
       "        vertical-align: top;\n",
       "    }\n",
       "\n",
       "    .dataframe thead th {\n",
       "        text-align: right;\n",
       "    }\n",
       "</style>\n",
       "<table border=\"1\" class=\"dataframe\">\n",
       "  <thead>\n",
       "    <tr style=\"text-align: right;\">\n",
       "      <th></th>\n",
       "      <th>Team</th>\n",
       "      <th>Wins</th>\n",
       "      <th>PF</th>\n",
       "    </tr>\n",
       "  </thead>\n",
       "  <tbody>\n",
       "    <tr>\n",
       "      <th>1</th>\n",
       "      <td>dan's Official Team</td>\n",
       "      <td>0</td>\n",
       "      <td>0</td>\n",
       "    </tr>\n",
       "    <tr>\n",
       "      <th>2</th>\n",
       "      <td>Parker's Primo Team</td>\n",
       "      <td>0</td>\n",
       "      <td>0</td>\n",
       "    </tr>\n",
       "  </tbody>\n",
       "</table>\n",
       "</div>"
      ],
      "text/plain": [
       "                  Team Wins PF\n",
       "1  dan's Official Team    0  0\n",
       "2  Parker's Primo Team    0  0"
      ]
     },
     "metadata": {},
     "output_type": "display_data"
    }
   ],
   "source": [
    "for league in league_ids:\n",
    "    lg = gm.to_league(league)\n",
    "    league_name = lg.settings()[\"name\"]\n",
    "    \n",
    "    raw_standings = lg.standings()\n",
    "    cleaned_standings = []\n",
    "    \n",
    "    for idx,team in enumerate(raw_standings):\n",
    "        cleaned_standings.append({})\n",
    "        cleaned_standings[idx][\"team_name\"] = team[\"name\"]\n",
    "        cleaned_standings[idx][\"rank\"] = team[\"rank\"]\n",
    "        cleaned_standings[idx][\"wins\"] = team[\"outcome_totals\"][\"wins\"]\n",
    "        cleaned_standings[idx][\"points_for\"] = team[\"points_for\"]\n",
    "        \n",
    "    sorted_standings = sorted(cleaned_standings, key=lambda k: (k[\"wins\"], k[\"points_for\"]), reverse=True) \n",
    "    \n",
    "    df = pd.DataFrame(columns=[\"Team\", \"Wins\", \"PF\"])\n",
    "    \n",
    "    for idx,team in enumerate(sorted_standings):\n",
    "        df.loc[idx] = [team[\"team_name\"], team[\"wins\"], team[\"points_for\"]]\n",
    "        \n",
    "    df.index = range(1,len(df)+1)\n",
    "    \n",
    "    print(f\"{league_name} Standings:\")\n",
    "    display(df)"
   ]
  },
  {
   "cell_type": "code",
   "execution_count": 5,
   "metadata": {},
   "outputs": [
    {
     "data": {
      "text/plain": [
       "dict_keys(['399.l.850918.t.1', '399.l.850918.t.2'])"
      ]
     },
     "execution_count": 5,
     "metadata": {},
     "output_type": "execute_result"
    }
   ],
   "source": [
    "tms = lg.teams().keys()\n",
    "tms"
   ]
  },
  {
   "cell_type": "code",
   "execution_count": null,
   "metadata": {},
   "outputs": [],
   "source": []
  }
 ],
 "metadata": {
  "kernelspec": {
   "display_name": "Python 3",
   "language": "python",
   "name": "python3"
  },
  "language_info": {
   "codemirror_mode": {
    "name": "ipython",
    "version": 3
   },
   "file_extension": ".py",
   "mimetype": "text/x-python",
   "name": "python",
   "nbconvert_exporter": "python",
   "pygments_lexer": "ipython3",
   "version": "3.8.1"
  }
 },
 "nbformat": 4,
 "nbformat_minor": 4
}
